{
  "nbformat": 4,
  "nbformat_minor": 0,
  "metadata": {
    "colab": {
      "name": "GDELT - Agrupamento com restrições.ipynb",
      "provenance": [],
      "collapsed_sections": [],
      "toc_visible": true,
      "include_colab_link": true
    },
    "kernelspec": {
      "name": "python3",
      "display_name": "Python 3"
    }
  },
  "cells": [
    {
      "cell_type": "markdown",
      "metadata": {
        "id": "view-in-github",
        "colab_type": "text"
      },
      "source": [
        "<a href=\"https://colab.research.google.com/github/ga-pontes/tcc/blob/main/GDELT_Agrupamento_com_restri%C3%A7%C3%B5es.ipynb\" target=\"_parent\"><img src=\"https://colab.research.google.com/assets/colab-badge.svg\" alt=\"Open In Colab\"/></a>"
      ]
    },
    {
      "cell_type": "markdown",
      "metadata": {
        "id": "SXEMPy8C1_tP"
      },
      "source": [
        "# Printar tempo de execução\n"
      ]
    },
    {
      "cell_type": "code",
      "metadata": {
        "id": "CLrq7vqxsV66"
      },
      "source": [
        "!pip install ipython-autotime\n",
        "%load_ext autotime"
      ],
      "execution_count": null,
      "outputs": []
    },
    {
      "cell_type": "markdown",
      "metadata": {
        "id": "9NT3SX_t9Es3"
      },
      "source": [
        "# Autenticação Google Drive\n"
      ]
    },
    {
      "cell_type": "code",
      "metadata": {
        "id": "bN7H5m6oxRuV"
      },
      "source": [
        "from google.colab import drive\n",
        "drive.mount('/content/gdrive')"
      ],
      "execution_count": null,
      "outputs": []
    },
    {
      "cell_type": "code",
      "metadata": {
        "id": "5WUpvVFXj9C_"
      },
      "source": [
        "from datetime import date\n",
        "today = date.today().strftime(\"%Y%m%d\")"
      ],
      "execution_count": null,
      "outputs": []
    },
    {
      "cell_type": "code",
      "metadata": {
        "id": "4zbYiiKk2iTP"
      },
      "source": [
        "today"
      ],
      "execution_count": null,
      "outputs": []
    },
    {
      "cell_type": "code",
      "metadata": {
        "id": "LEhcVA0Sksz_"
      },
      "source": [
        "cd gdrive/My\\ Drive/tcc"
      ],
      "execution_count": null,
      "outputs": []
    },
    {
      "cell_type": "code",
      "metadata": {
        "id": "WRtu7zdSlFCF"
      },
      "source": [
        "import os\n",
        "os.mkdir(today)"
      ],
      "execution_count": null,
      "outputs": []
    },
    {
      "cell_type": "code",
      "metadata": {
        "id": "HrUUHgo9osSY"
      },
      "source": [
        "cd .."
      ],
      "execution_count": null,
      "outputs": []
    },
    {
      "cell_type": "markdown",
      "metadata": {
        "id": "mqartoKFXTws"
      },
      "source": [
        "# Carregar tabelas e vetores \n",
        "*Seção auxiliar para rotina de testes*\n"
      ]
    },
    {
      "cell_type": "markdown",
      "metadata": {
        "id": "wEMc3JhtYyFS"
      },
      "source": [
        "## Exemplos de funções"
      ]
    },
    {
      "cell_type": "markdown",
      "metadata": {
        "id": "Dra2F5UDY_5W"
      },
      "source": [
        "### Salvar"
      ]
    },
    {
      "cell_type": "markdown",
      "metadata": {
        "id": "1Ske8nFnZKen"
      },
      "source": [
        "#### Salvar CSV Pandas\n"
      ]
    },
    {
      "cell_type": "code",
      "metadata": {
        "id": "0ar8kE7sbHYy"
      },
      "source": [
        "file = '/content/gdrive/My Drive/tcc/'+today+'/tabela.csv'\n",
        "df.to_csv(file)"
      ],
      "execution_count": null,
      "outputs": []
    },
    {
      "cell_type": "markdown",
      "metadata": {
        "id": "piEb-7bUZOa3"
      },
      "source": [
        "#### Salvar serial Pickle"
      ]
    },
    {
      "cell_type": "code",
      "metadata": {
        "id": "LaLUWGUUbIEk"
      },
      "source": [
        "import pickle\n",
        "\n",
        "file = '/content/gdrive/My Drive/tcc/'+today+'/embeddings_array_7827'\n",
        "\n",
        "with open(file, 'wb') as f:\n",
        "  pickle.dump(embeddings_array, f)"
      ],
      "execution_count": null,
      "outputs": []
    },
    {
      "cell_type": "markdown",
      "metadata": {
        "id": "Lz4YFvRFZCvs"
      },
      "source": [
        "### Carregar"
      ]
    },
    {
      "cell_type": "markdown",
      "metadata": {
        "id": "KyRZvt5DY1N4"
      },
      "source": [
        "#### Carregar CSV Pandas"
      ]
    },
    {
      "cell_type": "code",
      "metadata": {
        "id": "OVTDAIzB-bjK"
      },
      "source": [
        "#exemplo de leitura\n",
        "import pandas as pd \n",
        "eventos = pd.read_csv('/content/gdrive/My Drive/tcc/20201013/uscities_5647.csv') "
      ],
      "execution_count": null,
      "outputs": []
    },
    {
      "cell_type": "markdown",
      "metadata": {
        "id": "-PJd6VwkY4iw"
      },
      "source": [
        "#### Carregar serial pickle"
      ]
    },
    {
      "cell_type": "code",
      "metadata": {
        "id": "siT86mahhbKd"
      },
      "source": [
        "import pickle\n",
        "\n",
        "file = '/content/gdrive/My Drive/tcc/testes_modelo_novo/tabela1/restricoes_1/embeddings_distances'\n",
        "\n",
        "with open (file, 'rb') as fp:\n",
        "    embeddings_distances = pickle.load(fp)"
      ],
      "execution_count": null,
      "outputs": []
    },
    {
      "cell_type": "markdown",
      "metadata": {
        "id": "tPeqzqF3Xmq5"
      },
      "source": [
        "## Tabelas de eventos"
      ]
    },
    {
      "cell_type": "code",
      "metadata": {
        "id": "4tPweJI9vO3S"
      },
      "source": [
        "#exemplo de leitura\n",
        "import pandas as pd \n",
        "eventos = pd.read_csv('/content/gdrive/My Drive/tcc/testes_modelo_novo/tabela1/restricoes_1/uscities_5647.csv') "
      ],
      "execution_count": null,
      "outputs": []
    },
    {
      "cell_type": "code",
      "metadata": {
        "id": "QmWlLDGEt8nS"
      },
      "source": [
        "eventos.head(3)"
      ],
      "execution_count": null,
      "outputs": []
    },
    {
      "cell_type": "code",
      "metadata": {
        "id": "6HxvnF48t8nW"
      },
      "source": [
        "print(\"Eventos: \" + str(eventos.shape[0]))\n",
        "print(\"Temas: \" + str(eventos.theme.nunique()))"
      ],
      "execution_count": null,
      "outputs": []
    },
    {
      "cell_type": "markdown",
      "metadata": {
        "id": "ZVjEzdLxXtdA"
      },
      "source": [
        "## Embedding Array\n"
      ]
    },
    {
      "cell_type": "code",
      "metadata": {
        "id": "gIGekagLFW_K"
      },
      "source": [
        "import pickle\n",
        "\n",
        "file = '/content/gdrive/My Drive/tcc/testes_modelo_novo/tabela1/restricoes_1/embeddings_array'\n",
        "\n",
        "with open (file, 'rb') as fp:\n",
        "    embeddings_array = pickle.load(fp)"
      ],
      "execution_count": null,
      "outputs": []
    },
    {
      "cell_type": "code",
      "metadata": {
        "id": "CeCBUAS7HPEf"
      },
      "source": [
        "len(embeddings_array)"
      ],
      "execution_count": null,
      "outputs": []
    },
    {
      "cell_type": "markdown",
      "metadata": {
        "id": "hKKQSK6r7h3E"
      },
      "source": [
        "# Autenticação BigQuery"
      ]
    },
    {
      "cell_type": "code",
      "metadata": {
        "id": "sriCmPd_YPJX"
      },
      "source": [
        "from google.colab import auth\n",
        "auth.authenticate_user()\n",
        "print('Authenticated')"
      ],
      "execution_count": null,
      "outputs": []
    },
    {
      "cell_type": "markdown",
      "metadata": {
        "id": "zVOcEXPz7q07"
      },
      "source": [
        "Carregamento da tabela de eventos"
      ]
    },
    {
      "cell_type": "code",
      "metadata": {
        "id": "GRCFFtY8YZPD"
      },
      "source": [
        "%load_ext google.colab.data_table"
      ],
      "execution_count": null,
      "outputs": []
    },
    {
      "cell_type": "code",
      "metadata": {
        "id": "O7A006h4_Ydc"
      },
      "source": [
        "%%bigquery --project tcc-gdelt eventos\n",
        "SELECT\n",
        "  Title,\n",
        "  array_agg(locations_mentioned[safe_offset(0)].loc_fullname order by Partitiondate desc LIMIT 1)[safe_offset(0)] loc_fullname,\n",
        "  array_agg(locations_mentioned[safe_offset(0)].loc_latitude order by Partitiondate desc LIMIT 1)[safe_offset(0)] loc_latitude,\n",
        "  array_agg(locations_mentioned[safe_offset(0)].loc_longitude order by Partitiondate desc LIMIT 1)[safe_offset(0)] loc_longitude,\n",
        "  array_agg(ThemesV2_Array[safe_offset(0)].theme order by Partitiondate desc LIMIT 1)[safe_offset(0)] theme\n",
        "FROM\n",
        "  `tcc-gdelt.dataset_projeto.gkg_join_gdelt_uscities`\n",
        "where \n",
        "  partitiondate between '2020-07-01' and '2020-07-30'\n",
        "  and (MOD(CAST(RAND()*10 AS INT64),3)=0) \n",
        "  and ThemesV2_Array[safe_offset(0)].theme in (SELECT DISTINCT tema FROM `tcc-gdelt.themes_hierarchy.poda_temas`)\n",
        "  and Title <> ''\n",
        "  and regexp_extract(locations_mentioned[safe_offset(0)].loc_adm1code, 'US(.*)') NOT in ('AK', 'HI', 'PR')\n",
        "GROUP BY\n",
        "  Title"
      ],
      "execution_count": null,
      "outputs": []
    },
    {
      "cell_type": "code",
      "metadata": {
        "id": "Iw-wZvX_mnPH"
      },
      "source": [
        "print(eventos['Title'].nunique())\n",
        "print(eventos['theme'].nunique())"
      ],
      "execution_count": null,
      "outputs": []
    },
    {
      "cell_type": "code",
      "metadata": {
        "id": "2BsoJRV8_fIF"
      },
      "source": [
        "eventos.head()"
      ],
      "execution_count": null,
      "outputs": []
    },
    {
      "cell_type": "code",
      "metadata": {
        "id": "Znj_K_RKEc8d"
      },
      "source": [
        "print(eventos.shape[0])"
      ],
      "execution_count": null,
      "outputs": []
    },
    {
      "cell_type": "code",
      "metadata": {
        "id": "Y-UuiRxUF90Z"
      },
      "source": [
        "eventos.to_csv('/content/gdrive/My Drive/tcc/testes_modelo_novo/tabela1/uscities_3936.csv')"
      ],
      "execution_count": null,
      "outputs": []
    },
    {
      "cell_type": "markdown",
      "metadata": {
        "id": "whwoj655-bqL"
      },
      "source": [
        "#Funções para geração de restrições\n",
        "\n",
        "\n",
        "\n"
      ]
    },
    {
      "cell_type": "markdown",
      "metadata": {
        "id": "h9oCZs-RsHWJ"
      },
      "source": [
        "### **Must link:** eventos com mesmo local\n",
        "\n",
        "\n",
        "\n"
      ]
    },
    {
      "cell_type": "code",
      "metadata": {
        "id": "_GqCxDqKL5ZB"
      },
      "source": [
        "import itertools \n",
        "def generate_constrains_same_local_name(eventos, campo_local):\n",
        "    lista_locais = eventos[campo_local].values.tolist()\n",
        "\n",
        "    locations_dict = {}\n",
        "    for index, local_name in enumerate(lista_locais):\n",
        "        if local_name not in locations_dict:\n",
        "            locations_dict[local_name] = {index}\n",
        "        else:\n",
        "            locations_dict[local_name].add(index)\n",
        "\n",
        "    #print(locations_dict)\n",
        "\n",
        "    must_link = []\n",
        "    for loc in locations_dict: \n",
        "      #print(local_name)\n",
        "      b = list(itertools.combinations(list(locations_dict[loc]), 2))\n",
        "      must_link.extend(b)\n",
        "      #print(b)\n",
        "\n",
        "    return must_link"
      ],
      "execution_count": null,
      "outputs": []
    },
    {
      "cell_type": "code",
      "metadata": {
        "id": "Taq_FQupAxSI"
      },
      "source": [
        "eventos.head(0)"
      ],
      "execution_count": null,
      "outputs": []
    },
    {
      "cell_type": "code",
      "metadata": {
        "id": "iIuat2kwL9tw"
      },
      "source": [
        "must_link = generate_constrains_same_local_name(eventos, 'loc_fullname')"
      ],
      "execution_count": null,
      "outputs": []
    },
    {
      "cell_type": "code",
      "metadata": {
        "id": "S0FwsXSA7VdH"
      },
      "source": [
        "print(\"## de Restrições ML, sem considerar conteúdo textual: \" + str(len(must_link)))"
      ],
      "execution_count": null,
      "outputs": []
    },
    {
      "cell_type": "markdown",
      "metadata": {
        "id": "ixczauQbhzP3"
      },
      "source": [
        "### **Refinar Must link:** eventos com mesmo local e previamente agrupados"
      ]
    },
    {
      "cell_type": "code",
      "metadata": {
        "id": "yWus4QHgIlZ4"
      },
      "source": [
        "def must_link_filter(eventos, ml, clusters_column):\n",
        "  lista_clusters = eventos[clusters_column].values.tolist()\n",
        "  ml_filter = []\n",
        "  for comb in ml:\n",
        "    if lista_clusters[comb[0]] == lista_clusters[comb[1]]:\n",
        "      ml_filter.append(comb)\n",
        "\n",
        "  return ml_filter"
      ],
      "execution_count": null,
      "outputs": []
    },
    {
      "cell_type": "code",
      "metadata": {
        "id": "Yex6nMKhBMMk"
      },
      "source": [
        "eventos.head(0)"
      ],
      "execution_count": null,
      "outputs": []
    },
    {
      "cell_type": "code",
      "metadata": {
        "id": "Ziohf_g_Jvti"
      },
      "source": [
        "mlf = must_link_filter(eventos, must_link,  'clusters35')"
      ],
      "execution_count": null,
      "outputs": []
    },
    {
      "cell_type": "code",
      "metadata": {
        "id": "PYjMZsroJ7r4"
      },
      "source": [
        "print(len(must_link))\n",
        "print(len(mlf))"
      ],
      "execution_count": null,
      "outputs": []
    },
    {
      "cell_type": "markdown",
      "metadata": {
        "id": "jFus76jo39jx"
      },
      "source": [
        "### **Cannot link**: eventos mais distantes que limiar de distância\n",
        "\n"
      ]
    },
    {
      "cell_type": "code",
      "metadata": {
        "id": "jC68oUn5HtHV"
      },
      "source": [
        "!pip install haversine"
      ],
      "execution_count": null,
      "outputs": []
    },
    {
      "cell_type": "code",
      "metadata": {
        "id": "-uyjbUWL4f82"
      },
      "source": [
        "from haversine import haversine, Unit\n",
        "\n",
        "def removeDuplicates(lst):  \n",
        "    return [t for t in (set(tuple(i) for i in lst))]\n",
        "\n",
        "def generate_cl_hav(events, k, taxa_de_poda, campo_lat, campo_lon):\n",
        "  # EVENTS: tabela de eventos\n",
        "  # K: subdivisões máximas do espaço geográfico\n",
        "  # taxa_de_poda: restrição às subdivisões do espaços geográfico \n",
        "  # varia de 0 a 1: \n",
        "  #     - 0 não aplica restrição de distância\n",
        "  #     - 1 só permite agrupamento com eventos dentro do raio de subdivisão\n",
        "  #     - 0,5 avança 50% da distância entre o raio mínimo de subdivisão e o espaço total\n",
        "\n",
        "  #Definição do beta\n",
        "\n",
        "  \n",
        "  lat_list = [float(i) for i in eventos['loc_latitude']]\n",
        "  lon_list = [float(i) for i in eventos['loc_longitude']]\n",
        "\n",
        "  Lat_min = min(lat_list)\n",
        "  Lat_max = max(lat_list)\n",
        "  Lon_min = min(lon_list)\n",
        "  Lon_max = max(lon_list)\n",
        "\n",
        "  zero = (Lat_min, Lon_min)\n",
        "  print(zero)\n",
        "  pico = (Lat_max, Lon_max)\n",
        "  print(pico)\n",
        "\n",
        "  diagonal = haversine(zero, pico)\n",
        "  print(\"Diagonal do espaço amostral: \" + str(diagonal))\n",
        "  beta = (diagonal)*(1 + (taxa_de_poda)*(1/k - 1))\n",
        "  print(\"Beta definido: \" + str(beta))\n",
        "\n",
        "  #Criação da lista de (lat, lon)\n",
        "  geo_list = []\n",
        "  geo_list.extend((lat,lon) for lat, lon in zip(lat_list, lon_list))\n",
        "\n",
        "  #Criação da lista de listas com a distância entre cada local da lista de eventos\n",
        "  geo_list_havs = []\n",
        "  for geo in geo_list:\n",
        "    geo_list_havs.append([haversine(geo,x) for x in geo_list])\n",
        "\n",
        "  print(\"ok\")\n",
        "\n",
        "  #Verificação dos eventos mais distantes do que o permitido\n",
        "  cl=[]\n",
        "  for index1, elem1 in enumerate(geo_list_havs):\n",
        "    for index2, elem2 in enumerate(elem1):\n",
        "      if index1 != index2:\n",
        "        if geo_list_havs[index1][index2] > beta:\n",
        "          if index1 <= index2:\n",
        "            link = (int(index1), int(index2))\n",
        "          else:\n",
        "            link = (int(index2), int(index1))\n",
        "          cl.append(link)\n",
        "\n",
        "  cannot_link_array_dedouble = removeDuplicates(cl)\n",
        "  \n",
        "  return cannot_link_array_dedouble"
      ],
      "execution_count": null,
      "outputs": []
    },
    {
      "cell_type": "code",
      "metadata": {
        "id": "prLjlCRW5H7g"
      },
      "source": [
        "# restring que um evento possar estar no maximo 75% do diametro do espaço distante de outro evento\n",
        "# 1 não convergiu\n",
        "clf = generate_cl_hav(eventos, 4, 0.50, 'loc_latitude', 'loc_longitude') "
      ],
      "execution_count": null,
      "outputs": []
    },
    {
      "cell_type": "code",
      "metadata": {
        "id": "szcGYQ3uLRIY"
      },
      "source": [
        "print(\"Restrições de agrupamentos geradas: \" + str(len(clf)))"
      ],
      "execution_count": null,
      "outputs": []
    },
    {
      "cell_type": "markdown",
      "metadata": {
        "id": "jImOhFBF0iT4"
      },
      "source": [
        "### **Afrouxar Cannot link**: eventos de um mesmo clusters que foram restritos mas que tem transitividade\n"
      ]
    },
    {
      "cell_type": "code",
      "metadata": {
        "id": "XKFmMn-RmwX4"
      },
      "source": [
        "def generate_cluster_set(lista_clusters):\n",
        "  clusters_set = {}\n",
        "  for index, cluster in enumerate(lista_clusters):\n",
        "    if cluster not in clusters_set:\n",
        "      clusters_set[cluster] = [index]\n",
        "    else:\n",
        "      clusters_set[cluster].append(index)\n",
        "\n",
        "  return clusters_set\n",
        "\n",
        "def generate_cannot_link_set(cannot_link):\n",
        "  cannot_link_set = {}\n",
        "  \n",
        "  for index, tupla_cl in enumerate(cannot_link):\n",
        "    print(\"Iteração: \" + str(index))\n",
        "    if tupla_cl[0] not in cannot_link_set:\n",
        "      cannot_link_set[tupla_cl[0]] = [tupla_cl[1]]\n",
        "    else:\n",
        "      if tupla_cl[1] not in cannot_link_set[tupla_cl[0]]:\n",
        "        cannot_link_set[tupla_cl[0]].append(tupla_cl[1])\n",
        "\n",
        "    if tupla_cl[1] not in cannot_link_set:\n",
        "      cannot_link_set[tupla_cl[1]] = [tupla_cl[0]]\n",
        "    else:\n",
        "      if tupla_cl[0] not in cannot_link_set[tupla_cl[1]]:\n",
        "        cannot_link_set[tupla_cl[1]].append(tupla_cl[0])\n",
        "\n",
        "  return cannot_link_set\n",
        "\n",
        "def soften_cannot_link(tabela, campo_clusters, cannot_link):\n",
        "  clusters_set = generate_cluster_set(tabela[campo_clusters])\n",
        "  cannot_link_set = generate_cannot_link_set(cannot_link)\n",
        "  out_cannot_link_softer = cannot_link.copy()\n",
        "\n",
        "  for cannot_link_tuple in cannot_link:\n",
        "    evento_a = cannot_link_tuple[0]\n",
        "    evento_b = cannot_link_tuple[1]\n",
        "    cluster_evento_a = tabela[campo_clusters].loc[evento_a]\n",
        "    cluster_evento_b = tabela[campo_clusters].loc[evento_b]\n",
        "  \n",
        "    if cluster_evento_a == cluster_evento_b:\n",
        "      for cluster_event in clusters_set[cluster_evento_a]:\n",
        "        if (cluster_event != evento_a) and (cluster_event != evento_b):\n",
        "          print('check cluster_event: ' + str(cluster_event))\n",
        "          if (cluster_event in cannot_link_set) and (evento_a not in cannot_link_set[cluster_event]) and (evento_b not in cannot_link_set[cluster_event]):\n",
        "            out_cannot_link_softer.remove((evento_a, evento_b))\n",
        "            break\n",
        "  return out_cannot_link_softer"
      ],
      "execution_count": null,
      "outputs": []
    },
    {
      "cell_type": "code",
      "metadata": {
        "id": "-plPS4REKTQ-"
      },
      "source": [
        "soft = soften_cannot_link(eventos, 'clusters', cl)"
      ],
      "execution_count": null,
      "outputs": []
    },
    {
      "cell_type": "code",
      "metadata": {
        "id": "yhZS-7H9O6gL"
      },
      "source": [
        "print(len(cl))\n",
        "print(len(soft))"
      ],
      "execution_count": null,
      "outputs": []
    },
    {
      "cell_type": "markdown",
      "metadata": {
        "id": "9oAj4v752DoV"
      },
      "source": [
        "### **MÉTODO FINAL** - Distancia semântica e geográfica"
      ]
    },
    {
      "cell_type": "code",
      "metadata": {
        "id": "YA-JNaZK2P0G"
      },
      "source": [
        "#distância euclidiana do kmeans\n",
        "def l2_distance(point1, point2):\n",
        "    return sum([(float(i)-float(j))**2 for (i, j) in zip(point1, point2)])"
      ],
      "execution_count": null,
      "outputs": []
    },
    {
      "cell_type": "code",
      "metadata": {
        "id": "tM1HJP7E2Veg"
      },
      "source": [
        "#gerar todas as combinações 2 a 2 de eventos\n",
        "from itertools import combinations\n",
        "def comibinatoria_de_2(e_array):\n",
        "  indices = [i for i in range(len(e_array))]\n",
        "  comb = list(combinations(indices, 2))\n",
        "  return comb"
      ],
      "execution_count": null,
      "outputs": []
    },
    {
      "cell_type": "code",
      "metadata": {
        "id": "TCtgjuaU2ac8"
      },
      "source": [
        "#calcular as distancias entre os eventos a partir da saida do bert\n",
        "def bert_distances(e_array, comb):\n",
        "  embd = []\n",
        "  for index, c in enumerate(comb):\n",
        "    embd.append(l2_distance(embeddings_array[c[0]],embeddings_array[c[1]]))\n",
        "    if index % 10000 == 0:\n",
        "      print(\"Iteração: \" + str(index)) \n",
        "  return embd, min(embd), max(embd)"
      ],
      "execution_count": null,
      "outputs": []
    },
    {
      "cell_type": "code",
      "metadata": {
        "id": "WdeDXNjG2ieK"
      },
      "source": [
        "#normalizar as distancias entre os eventos a partir da saida do bert\n",
        "def normalize_bert_distances(bert_dist, b_min, b_max):\n",
        "  normal_bert = []\n",
        "  for dist in bert_dist:\n",
        "    normal_bert.append( (dist - b_min) / (b_max - b_min))\n",
        "  return normal_bert"
      ],
      "execution_count": null,
      "outputs": []
    },
    {
      "cell_type": "code",
      "metadata": {
        "id": "AV1__u0k2m05"
      },
      "source": [
        "combinacoes = comibinatoria_de_2(embeddings_array)\n",
        "len(combinacoes)"
      ],
      "execution_count": null,
      "outputs": []
    },
    {
      "cell_type": "code",
      "metadata": {
        "id": "4NIPZ_o5GmG6"
      },
      "source": [
        "len(embeddings_array)"
      ],
      "execution_count": null,
      "outputs": []
    },
    {
      "cell_type": "code",
      "metadata": {
        "id": "_Bfk0XPm2orK"
      },
      "source": [
        "b_embeddings_distances, dist_min, dist_max = bert_distances(embeddings_array, combinacoes)"
      ],
      "execution_count": null,
      "outputs": []
    },
    {
      "cell_type": "code",
      "metadata": {
        "id": "kT9-FtPwIxXq"
      },
      "source": [
        "b_embeddings_distances = embeddings_distances\n",
        "dist_min = min(b_embeddings_distances)\n",
        "dist_max = max(b_embeddings_distances)"
      ],
      "execution_count": null,
      "outputs": []
    },
    {
      "cell_type": "code",
      "metadata": {
        "id": "rSc2Qb-7I9zq"
      },
      "source": [
        "len(embeddings_distances)"
      ],
      "execution_count": null,
      "outputs": []
    },
    {
      "cell_type": "code",
      "metadata": {
        "id": "04v6vLre2scY"
      },
      "source": [
        "import pickle\n",
        "file = '/content/gdrive/My Drive/tcc/testes_modelo_novo/tabela1/embeddings_distances'\n",
        "\n",
        "with open(file, 'wb') as f:\n",
        "  pickle.dump(b_embeddings_distances, f)"
      ],
      "execution_count": null,
      "outputs": []
    },
    {
      "cell_type": "code",
      "metadata": {
        "id": "k4T9l19L20Mn"
      },
      "source": [
        "normal_berts = normalize_bert_distances(b_embeddings_distances, dist_min, dist_max)\n",
        "len(normal_berts)"
      ],
      "execution_count": null,
      "outputs": []
    },
    {
      "cell_type": "code",
      "metadata": {
        "id": "MxuinlEv26Fo"
      },
      "source": [
        "!pip install haversine"
      ],
      "execution_count": null,
      "outputs": []
    },
    {
      "cell_type": "code",
      "metadata": {
        "id": "L6PYdmc227EG"
      },
      "source": [
        "from haversine import haversine, Unit\n",
        "\n",
        "def haversine_distances(events, comb):\n",
        "  lat_list = [float(i) for i in eventos['loc_latitude']]\n",
        "  lon_list = [float(i) for i in eventos['loc_longitude']]\n",
        "  geo_list = []\n",
        "  geo_list.extend((lat,lon) for lat, lon in zip(lat_list, lon_list))\n",
        "\n",
        "  haver_dists = []\n",
        "  for index, c in enumerate(comb):\n",
        "    if index % 1000000 == 0:\n",
        "      print(\"Iteração: \" + str(index)) \n",
        "    haver_dists.append( haversine(geo_list[c[0]], geo_list[c[1]]))\n",
        "\n",
        "  mx = max(haver_dists)\n",
        "  haver_dists_normalized = [x/mx for x in haver_dists]\n",
        "\n",
        "  return haver_dists_normalized"
      ],
      "execution_count": null,
      "outputs": []
    },
    {
      "cell_type": "code",
      "metadata": {
        "id": "odwyGLoY28Yz"
      },
      "source": [
        "distancias_hav = haversine_distances(eventos, combinacoes)"
      ],
      "execution_count": null,
      "outputs": []
    },
    {
      "cell_type": "code",
      "metadata": {
        "id": "OkrxMv0sJXaf"
      },
      "source": [
        "print(len(distancias_hav))\n",
        "print(len(b_embeddings_distances))\n",
        "print(len(combinacoes))"
      ],
      "execution_count": null,
      "outputs": []
    },
    {
      "cell_type": "code",
      "metadata": {
        "id": "RH2iLoaa29V3"
      },
      "source": [
        "zip_combinations = list(zip(combinacoes, distancias_hav, normal_berts))"
      ],
      "execution_count": null,
      "outputs": []
    },
    {
      "cell_type": "code",
      "metadata": {
        "id": "WkAd4s1t5EsI"
      },
      "source": [
        "zip_combinations_sort = zip_combinations.copy()\n",
        "zip_combinations_sort.sort(key=lambda tp: tp[2])"
      ],
      "execution_count": null,
      "outputs": []
    },
    {
      "cell_type": "code",
      "metadata": {
        "id": "NGZTk2du5QdP"
      },
      "source": [
        "combs_sort = []\n",
        "distancias_hav_sort = []\n",
        "normal_berts_sort = []\n",
        "\n",
        "for t in zip_combinations_sort:\n",
        "  combs_sort.append(t[0])\n",
        "  distancias_hav_sort.append(t[1])\n",
        "  normal_berts_sort.append(t[2])"
      ],
      "execution_count": null,
      "outputs": []
    },
    {
      "cell_type": "code",
      "metadata": {
        "id": "r0wsxLGfP8ZY"
      },
      "source": [
        "array_aux = []\n",
        "for index, tpl in enumerate(distancias_hav_sort):\n",
        "  if tpl >= 0.75:\n",
        "    array_aux.append(\"CL\")\n",
        "  #elif normal_berts_sort[index] <= 0.02 and tpl == 0:\n",
        "   # array_aux.append(\"ML\")\n",
        "  else:\n",
        "    array_aux.append(\"Sem restrição\")"
      ],
      "execution_count": null,
      "outputs": []
    },
    {
      "cell_type": "code",
      "metadata": {
        "id": "dOgsUWi2QmUt"
      },
      "source": [
        "len(array_aux)"
      ],
      "execution_count": null,
      "outputs": []
    },
    {
      "cell_type": "code",
      "metadata": {
        "id": "g4hCAq3hER1W"
      },
      "source": [
        "dits_hav_sort = distancias_hav_sort.copy()\n",
        "dits_hav_sort.sort()"
      ],
      "execution_count": null,
      "outputs": []
    },
    {
      "cell_type": "code",
      "metadata": {
        "id": "muRkQksz5cIx"
      },
      "source": [
        "import matplotlib.pyplot as plt\n",
        "from matplotlib.pyplot import figure\n",
        "\n",
        "figure(num=None, figsize=(12, 8), dpi=80, facecolor='w', edgecolor='k')\n",
        "\n",
        "plt.plot([i for i in range(len(normal_berts_sort))],normal_berts_sort)\n",
        "plt.title('Distribuição de distância semântica entre par de eventos (RSM)')\n",
        "plt.xlabel('Índice da dupla na lista')\n",
        "plt.ylabel('Distância (euclidiana) da dupla')\n",
        "plt.show()"
      ],
      "execution_count": null,
      "outputs": []
    },
    {
      "cell_type": "code",
      "metadata": {
        "id": "e2iAPTo3EamG"
      },
      "source": [
        "import matplotlib.pyplot as plt\n",
        "from matplotlib.pyplot import figure\n",
        "\n",
        "figure(num=None, figsize=(12, 8), dpi=80, facecolor='w', edgecolor='k')\n",
        "\n",
        "plt.plot([i for i in range(len(dits_hav_sort))],dits_hav_sort)\n",
        "plt.title('Distribuição de distância geográfica entre par de eventos (RGEO)')\n",
        "plt.xlabel('Índice da dupla na lista')\n",
        "plt.ylabel('Distância (haversine) da dupla')\n",
        "plt.show()"
      ],
      "execution_count": null,
      "outputs": []
    },
    {
      "cell_type": "code",
      "metadata": {
        "id": "YEm5LXCxMC4P"
      },
      "source": [
        "import seaborn as sns\n",
        "import matplotlib.pyplot as plt\n",
        "\n",
        "sns.set_theme(style=\"ticks\")\n",
        "\n",
        "x = distancias_hav_sort[0:96700]\n",
        "y = normal_berts_sort[0:96700]\n",
        "\n",
        "p = sns.jointplot(x=x, y=y, hue=array_aux[0:96700])\n",
        "p.fig.set_size_inches(10,10)\n",
        "\n",
        "p.set_axis_labels('x', 'y', fontsize=16)\n",
        "p.ax_joint.set_xlabel(\"Distribuição de distâncias geográficas\", fontweight='bold')\n",
        "p.ax_joint.set_ylabel(\"Distribuição de distâncias semânticas\", fontweight='bold')"
      ],
      "execution_count": null,
      "outputs": []
    },
    {
      "cell_type": "code",
      "metadata": {
        "id": "2wtJcdYCM8Bd"
      },
      "source": [
        "i_max = 0\n",
        "while normal_berts_sort[i_max] < 0.4:\n",
        "  i_max = i_max + 100\n",
        "\n",
        "print(i_max)"
      ],
      "execution_count": null,
      "outputs": []
    },
    {
      "cell_type": "code",
      "metadata": {
        "id": "VlkF5_345YsJ"
      },
      "source": [
        "ml = []\n",
        "cl = []\n",
        "\n",
        "for index, c in enumerate(combs_sort[0:50500]):\n",
        "  if distancias_hav_sort[index] >= 0.7:\n",
        "    cl.append(c)\n",
        "  if distancias_hav_sort[index] <= 0.001:\n",
        "    ml.append(c)\n",
        "\n",
        "print(len(ml))\n",
        "print(len(cl))"
      ],
      "execution_count": null,
      "outputs": []
    },
    {
      "cell_type": "code",
      "metadata": {
        "id": "_C9ie5N_hX4K"
      },
      "source": [
        "ml = []\n",
        "\n",
        "for index, c in enumerate(combs_sort[0:34900]):\n",
        "  if distancias_hav_sort[index] <= 0.02 and c in must_link:\n",
        "    ml.append(c)\n",
        "\n",
        "print(len(ml))"
      ],
      "execution_count": null,
      "outputs": []
    },
    {
      "cell_type": "code",
      "metadata": {
        "id": "dCEy6pPnkOal"
      },
      "source": [
        "print(len(ml))"
      ],
      "execution_count": null,
      "outputs": []
    },
    {
      "cell_type": "code",
      "metadata": {
        "id": "vn93HcB8OFmu"
      },
      "source": [
        "matchs_ml = 0\n",
        "for i in ml:\n",
        "  if eventos['loc_fullname'].loc[i[0]] == eventos['loc_fullname'].loc[i[1]]:\n",
        "    matchs_ml = matchs_ml + 1\n",
        "print(matchs_ml)"
      ],
      "execution_count": null,
      "outputs": []
    },
    {
      "cell_type": "code",
      "metadata": {
        "id": "9BWxfOLwPSPX"
      },
      "source": [
        "print(matchs_ml/len(ml))"
      ],
      "execution_count": null,
      "outputs": []
    },
    {
      "cell_type": "code",
      "metadata": {
        "id": "8VXleYdjOftg"
      },
      "source": [
        "matchs_cl = 0\n",
        "for i in cl:\n",
        "  if eventos['theme'].loc[i[0]] != eventos['theme'].loc[i[1]]:\n",
        "    matchs_cl = matchs_cl + 1\n",
        "print(matchs_cl)"
      ],
      "execution_count": null,
      "outputs": []
    },
    {
      "cell_type": "code",
      "metadata": {
        "id": "1azG7LsRPPhe"
      },
      "source": [
        "print(matchs_cl/len(cl))"
      ],
      "execution_count": null,
      "outputs": []
    },
    {
      "cell_type": "markdown",
      "metadata": {
        "id": "maytmYMJK9Rw"
      },
      "source": [
        "#Carregamento do Sentence Transformer\n"
      ]
    },
    {
      "cell_type": "markdown",
      "metadata": {
        "id": "Tsao5Ba_W3Do"
      },
      "source": [
        "### Download e instalação de pacotes"
      ]
    },
    {
      "cell_type": "code",
      "metadata": {
        "id": "61WdcV_Nfr5e"
      },
      "source": [
        "ls"
      ],
      "execution_count": null,
      "outputs": []
    },
    {
      "cell_type": "code",
      "metadata": {
        "id": "864aILamK5od"
      },
      "source": [
        "# instalando e carregando sentencen transformer\n",
        "\n",
        "!git clone https://github.com/UKPLab/sentence-transformers.git\n",
        "!pip install -U sentence-transformers/"
      ],
      "execution_count": null,
      "outputs": []
    },
    {
      "cell_type": "code",
      "metadata": {
        "id": "Zo59-BDhLT0E"
      },
      "source": [
        "from sentence_transformers import SentenceTransformer, LoggingHandler\n",
        "import numpy as np\n",
        "import logging\n",
        "\n",
        "#### Just some code to print debug information to stdout\n",
        "np.set_printoptions(threshold=100)\n",
        "\n",
        "logging.basicConfig(format='%(asctime)s - %(message)s', datefmt='%Y-%m-%d %H:%M:%S', level=logging.INFO, handlers=[LoggingHandler()])\n",
        "\n",
        "# Load Sentence model (based on BERT) from URL\n",
        "model = SentenceTransformer('distiluse-base-multilingual-cased')"
      ],
      "execution_count": null,
      "outputs": []
    },
    {
      "cell_type": "markdown",
      "metadata": {
        "id": "CYZCPlkZLdT5"
      },
      "source": [
        "### Transformando eventos em vetores"
      ]
    },
    {
      "cell_type": "code",
      "metadata": {
        "id": "JHaPrNxLqT_A"
      },
      "source": [
        "eventos.head(0)"
      ],
      "execution_count": null,
      "outputs": []
    },
    {
      "cell_type": "code",
      "metadata": {
        "id": "fLaC56OkJ8Az"
      },
      "source": [
        "event_title_array = eventos['Title'].values.tolist()\n",
        "event_title_array"
      ],
      "execution_count": null,
      "outputs": []
    },
    {
      "cell_type": "code",
      "metadata": {
        "id": "vvLt5HEsLcxB"
      },
      "source": [
        "embeddings_array = model.encode(event_title_array)\n",
        "embeddings_array"
      ],
      "execution_count": null,
      "outputs": []
    },
    {
      "cell_type": "code",
      "metadata": {
        "id": "1Lcj98-8e6yk"
      },
      "source": [
        "for i, eb in enumerate(embeddings_array):\n",
        "  if eb.any() != embeddings_array2[i].any():\n",
        "    print(ops)"
      ],
      "execution_count": null,
      "outputs": []
    },
    {
      "cell_type": "markdown",
      "metadata": {
        "id": "9UYvJI1lqbqm"
      },
      "source": [
        "####Salvar embedding_array"
      ]
    },
    {
      "cell_type": "code",
      "metadata": {
        "id": "Cck7VweAK1p7"
      },
      "source": [
        "import pickle\n",
        "\n",
        "file = '/content/gdrive/My Drive/tcc/testes_modelo_novo/tabela1/embeddings_array'\n",
        "\n",
        "with open(file, 'wb') as f:\n",
        "  pickle.dump(embeddings_array, f)"
      ],
      "execution_count": null,
      "outputs": []
    },
    {
      "cell_type": "markdown",
      "metadata": {
        "id": "tGwVE8-jqfWT"
      },
      "source": [
        "####Carregar embedding_array\n",
        "\n"
      ]
    },
    {
      "cell_type": "markdown",
      "metadata": {
        "id": "PKNYhgejFtSx"
      },
      "source": [
        "**Código na seção:** Carregar tabelas e vetores > Embedding Array"
      ]
    },
    {
      "cell_type": "markdown",
      "metadata": {
        "id": "yv1mQ56CKuub"
      },
      "source": [
        "#Carregamento do COP-KMeans\n",
        "Download e instalação de pacotes"
      ]
    },
    {
      "cell_type": "code",
      "metadata": {
        "id": "WWc1D99LIQQT"
      },
      "source": [
        "ls"
      ],
      "execution_count": null,
      "outputs": []
    },
    {
      "cell_type": "code",
      "metadata": {
        "id": "tdG68sA8KsuI"
      },
      "source": [
        "!git clone https://github.com/Behrouz-Babaki/COP-Kmeans.git\n",
        "!pip install COP-Kmeans/"
      ],
      "execution_count": null,
      "outputs": []
    },
    {
      "cell_type": "markdown",
      "metadata": {
        "id": "L1QKQ8lgLnt5"
      },
      "source": [
        "#Agrupamento sem restrições"
      ]
    },
    {
      "cell_type": "code",
      "metadata": {
        "id": "BLJgVUt2pn5h"
      },
      "source": [
        "print('Quantidade de eventos testados: ' + str(len(embeddings_array)))"
      ],
      "execution_count": null,
      "outputs": []
    },
    {
      "cell_type": "code",
      "metadata": {
        "id": "PscMEKmPno7e"
      },
      "source": [
        "#Verificação de parâmetros\n",
        "if embeddings_array != []:\n",
        "  print(\"Embeddings ok.\")\n",
        "else:\n",
        "  print(\"Array de embeddings não carregado.\")"
      ],
      "execution_count": null,
      "outputs": []
    },
    {
      "cell_type": "code",
      "metadata": {
        "id": "3EEhFanbxQ4E"
      },
      "source": [
        "## agrupamento sem restricoes\n",
        "from copkmeans.cop_kmeans import cop_kmeans\n",
        "import numpy as np\n",
        "\n",
        "k = 50\n",
        "input_matrix = np.array(embeddings_array)\n",
        "clusters, centers = cop_kmeans(dataset=input_matrix, k=k, ml=[], cl=[])\n",
        "\n",
        "\n",
        "if clusters != None:\n",
        "  print(\"Sucesso!\")\n",
        "else: \n",
        "  print(\"Não convergiu.\")"
      ],
      "execution_count": null,
      "outputs": []
    },
    {
      "cell_type": "code",
      "metadata": {
        "id": "jBzYEMj5M-iY"
      },
      "source": [
        "import pickle\n",
        "\n",
        "file = '/content/gdrive/My Drive/tcc/testes_modelo_novo/tabela1/clusters50'\n",
        "with open(file, 'wb') as f:\n",
        "  pickle.dump(clusters, f)"
      ],
      "execution_count": null,
      "outputs": []
    },
    {
      "cell_type": "code",
      "metadata": {
        "id": "20P8393iSVUY"
      },
      "source": [
        "clusters"
      ],
      "execution_count": null,
      "outputs": []
    },
    {
      "cell_type": "code",
      "metadata": {
        "id": "9F68Ed7AMta0"
      },
      "source": [
        "import pandas as pd\n",
        "\n",
        "resultados = pd.DataFrame(data=eventos)\n",
        "resultados['clusters35'] = clusters\n",
        "resultados.to_csv('/content/gdrive/My Drive/tcc/'+today+'/35_resultado_sem_restricoes.csv')"
      ],
      "execution_count": null,
      "outputs": []
    },
    {
      "cell_type": "code",
      "metadata": {
        "id": "MT34AlSYHg9x"
      },
      "source": [
        "eventos.head(3)"
      ],
      "execution_count": null,
      "outputs": []
    },
    {
      "cell_type": "markdown",
      "metadata": {
        "id": "PNgY5WoYLscj"
      },
      "source": [
        "#Agrupamento com restrições\n"
      ]
    },
    {
      "cell_type": "code",
      "metadata": {
        "id": "ukU2nxFDHfrI"
      },
      "source": [
        "#Verificação de parâmetros\n",
        "if embeddings_array != []:\n",
        "  print(\"Embeddings ok.\")\n",
        "else:\n",
        "  print(\"Array de embeddings não carregado.\")\n",
        "\n",
        "if ml != []:\n",
        "  print(\"ML ok.\")\n",
        "else:\n",
        "  print(\"Array ML não carregado.\")\n",
        "\n",
        "if cl != []:\n",
        "  print(\"CL ok.\")\n",
        "else:\n",
        "  print(\"Array CL não carregado.\")"
      ],
      "execution_count": null,
      "outputs": []
    },
    {
      "cell_type": "code",
      "metadata": {
        "id": "G-67skjuFFAS"
      },
      "source": [
        "#Verificação de sobreposição entre ML e CL\n",
        "def intersection(lst1, lst2): \n",
        "    return list(set(lst1) & set(lst2)) \n",
        "    \n",
        "if intersection(cl, ml) == []:\n",
        "  print(\"Sem intersecção.\")\n",
        "else:\n",
        "  print(\"Erro! Há interseccção.\")"
      ],
      "execution_count": null,
      "outputs": []
    },
    {
      "cell_type": "code",
      "metadata": {
        "id": "xAq8zOcpdaCL"
      },
      "source": [
        "clusters = []\n",
        "centers = []\n",
        "clusters.clear() \n",
        "centers.clear()\n",
        "print(clusters)\n",
        "print(centers)"
      ],
      "execution_count": null,
      "outputs": []
    },
    {
      "cell_type": "code",
      "metadata": {
        "id": "naHpPBzo_gz5"
      },
      "source": [
        "embeddings_array"
      ],
      "execution_count": null,
      "outputs": []
    },
    {
      "cell_type": "code",
      "metadata": {
        "id": "_kz-iMZkL9Vw"
      },
      "source": [
        "from copkmeans.cop_kmeans import cop_kmeans\n",
        "import numpy as np\n",
        "\n",
        "k = 50\n",
        "input_matrix = np.array(embeddings_array)\n",
        "#clusters, centers = cop_kmeans(dataset=input_matrix, k=k, ml=ml[0:4000], cl=cl)\n",
        "clusters, centers = cop_kmeans(dataset=input_matrix, k=k, ml=[], cl=cl)\n",
        "\n",
        "if clusters != None:\n",
        "  print(\"Sucesso!\")\n",
        "else: \n",
        "  print(\"Não convergiu.\")"
      ],
      "execution_count": null,
      "outputs": []
    },
    {
      "cell_type": "code",
      "metadata": {
        "id": "0s2I3YbBl_SI"
      },
      "source": [
        "len(ml[0:3000])"
      ],
      "execution_count": null,
      "outputs": []
    },
    {
      "cell_type": "code",
      "metadata": {
        "id": "WzpIm6-_92SR"
      },
      "source": [
        "import pickle\n",
        "\n",
        "file = '/content/gdrive/My Drive/tcc/testes_modelo_novo/tabela1/clusters30r'\n",
        "with open(file, 'wb') as f:\n",
        "  pickle.dump(clusters, f)"
      ],
      "execution_count": null,
      "outputs": []
    },
    {
      "cell_type": "markdown",
      "metadata": {
        "id": "CJFGjhprCLUr"
      },
      "source": [
        "# Avalição dos Clusters"
      ]
    },
    {
      "cell_type": "code",
      "metadata": {
        "id": "wV5oPFV7CQJ_"
      },
      "source": [
        "import pickle\n",
        "\n",
        "file = '/content/gdrive/My Drive/tcc/testes_modelo_novo/tabela1/clusters50'\n",
        "\n",
        "with open (file, 'rb') as fp:\n",
        "    clusters50 = pickle.load(fp)"
      ],
      "execution_count": null,
      "outputs": []
    },
    {
      "cell_type": "code",
      "metadata": {
        "id": "IwO6JzPyPmBO"
      },
      "source": [
        "print(eventos.shape[0])\n",
        "print(len(clusters40))\n",
        "print(len(clusters40r))"
      ],
      "execution_count": null,
      "outputs": []
    },
    {
      "cell_type": "code",
      "metadata": {
        "id": "jnPXQFIKCoXE"
      },
      "source": [
        "eventos.head(0)"
      ],
      "execution_count": null,
      "outputs": []
    },
    {
      "cell_type": "code",
      "metadata": {
        "id": "9Ho5cURUCTdu"
      },
      "source": [
        "from sklearn import metrics\n",
        "from sklearn.metrics.cluster import adjusted_rand_score\n",
        "print(metrics.normalized_mutual_info_score(eventos['theme'].to_list(), clusters50))\n",
        "print(metrics.normalized_mutual_info_score(eventos['loc_fullname'].to_list(), clusters50))"
      ],
      "execution_count": null,
      "outputs": []
    },
    {
      "cell_type": "code",
      "metadata": {
        "id": "PpxNXyKDVuSO"
      },
      "source": [
        "clusters30rml_b"
      ],
      "execution_count": null,
      "outputs": []
    },
    {
      "cell_type": "code",
      "metadata": {
        "id": "gXWQm1jdF7D7"
      },
      "source": [
        "from sklearn import metrics\n",
        "from sklearn.metrics.cluster import adjusted_rand_score\n",
        "print(metrics.normalized_mutual_info_score(eventos['theme'].to_list(), clusters60rml_b))\n",
        "\n",
        "print(metrics.normalized_mutual_info_score(eventos['loc_fullname'].to_list(), clusters60rml_b))\n"
      ],
      "execution_count": null,
      "outputs": []
    },
    {
      "cell_type": "code",
      "metadata": {
        "id": "Hx-3peD_XLXU"
      },
      "source": [
        "from sklearn import metrics\n",
        "from sklearn.metrics.cluster import adjusted_rand_score\n",
        "print(metrics.normalized_mutual_info_score(eventos['theme'].to_list(), clusters50rml_b))\n",
        "\n",
        "print(metrics.normalized_mutual_info_score(eventos['loc_fullname'].to_list(), clusters50rml_b))\n"
      ],
      "execution_count": null,
      "outputs": []
    },
    {
      "cell_type": "code",
      "metadata": {
        "id": "NKOmvmyuQUL1"
      },
      "source": [
        "##### recomendado estudar e usar esses baseados em mutual_information (estudar o range da medida? quanto maior melhor?)\n",
        "from sklearn.metrics.cluster import mutual_info_score\n",
        "\n",
        "print(metrics.mutual_info_score(eventos['loc_fullname'].to_list(), clusters40r))"
      ],
      "execution_count": null,
      "outputs": []
    },
    {
      "cell_type": "code",
      "metadata": {
        "id": "BjPomV_qDpXM"
      },
      "source": [
        "from sklearn.metrics.cluster import mutual_info_score\n",
        "\n",
        "print(metrics.adjusted_mutual_info_score(eventos['theme'].to_list(), clusters35))"
      ],
      "execution_count": null,
      "outputs": []
    },
    {
      "cell_type": "markdown",
      "metadata": {
        "id": "_HZDGgVEI02b"
      },
      "source": [
        "### Adicionar ao DF"
      ]
    },
    {
      "cell_type": "code",
      "metadata": {
        "id": "bNZ4uGwrIp9Z"
      },
      "source": [
        "import pandas as pd\n",
        "\n",
        "eventos_novo = pd.DataFrame(data=eventos)\n",
        "eventos_novo['nova_coluna'] = clusters\n",
        "resultados_fortes3.to_csv('/content/gdrive/My Drive/tcc/20200927/resultado_com_restricoes_fortes4.csv')"
      ],
      "execution_count": null,
      "outputs": []
    },
    {
      "cell_type": "markdown",
      "metadata": {
        "id": "YcW6qMiPJIGD"
      },
      "source": [
        "### Salvar novo DF\n",
        "\n",
        "**Instruções na seção:** Carregar tabelas e vetores > Carregar > Salvar CSV Pickle"
      ]
    },
    {
      "cell_type": "markdown",
      "metadata": {
        "id": "pgKvnLsd16k1"
      },
      "source": [
        "## Mapas de Calor"
      ]
    },
    {
      "cell_type": "code",
      "metadata": {
        "id": "TIJBvkGcvQfr"
      },
      "source": [
        "import plotly.express as px\n",
        "#fig = px.scatter_geo(data_frame=df, \n",
        "#                     locations=\"iso_alpha\", \n",
        "#                     color=\"continent\",\n",
        "#                     hover_name=\"country\", size=\"pop\",\n",
        "#                     animation_frame=\"year\",\n",
        "#                     projection=\"natural earth\")\n",
        "#\n",
        "\n",
        "fig = px.scatter_geo(data_frame=eventos, \n",
        "            lat=eventos['loc_latitude'], \n",
        "            lon=eventos['loc_longitude'], \n",
        "            locations=None, \n",
        "            locationmode=None, \n",
        "            color=ev2, \n",
        "            text=None, \n",
        "            hover_name=None, \n",
        "            hover_data=None, \n",
        "            custom_data=None, \n",
        "            size=None, \n",
        "            animation_frame=None, \n",
        "            animation_group=None, \n",
        "            category_orders={}, \n",
        "            labels={}, \n",
        "            color_discrete_sequence=None, \n",
        "            color_discrete_map={}, \n",
        "            color_continuous_scale=None, \n",
        "            range_color=None, \n",
        "            color_continuous_midpoint=None, \n",
        "            opacity=None, \n",
        "            size_max=None, \n",
        "            projection=None, \n",
        "            scope='usa', \n",
        "            center=None, \n",
        "            title=None, \n",
        "            template=None, \n",
        "            width=2000, \n",
        "            height=1000)\n",
        "fig.show()"
      ],
      "execution_count": null,
      "outputs": []
    },
    {
      "cell_type": "code",
      "metadata": {
        "id": "qytjrqr_nk9Y"
      },
      "source": [
        "import pickle\n",
        "\n",
        "file = '/content/gdrive/My Drive/tcc/testes_modelo_novo/tabela1/restricoes_2/clusters50rml_b'\n",
        "\n",
        "with open (file, 'rb') as fp:\n",
        "    clusters50rml_b = pickle.load(fp)"
      ],
      "execution_count": null,
      "outputs": []
    },
    {
      "cell_type": "code",
      "metadata": {
        "id": "LfnmnXK9vlXH"
      },
      "source": [
        "eventos['clusters_r'] = clusters50rml_b"
      ],
      "execution_count": null,
      "outputs": []
    },
    {
      "cell_type": "code",
      "metadata": {
        "id": "kUdJecMvvsBV"
      },
      "source": [
        "eventos.head(3)"
      ],
      "execution_count": null,
      "outputs": []
    },
    {
      "cell_type": "code",
      "metadata": {
        "id": "DVuaQfQsotUK"
      },
      "source": [
        "eventos['loc_latitude'].loc[eventos['clusters'] == 13]"
      ],
      "execution_count": null,
      "outputs": []
    },
    {
      "cell_type": "code",
      "metadata": {
        "id": "-vLG-nOQvkcd"
      },
      "source": [
        "int(len(lats)*0.75)"
      ],
      "execution_count": null,
      "outputs": []
    },
    {
      "cell_type": "code",
      "metadata": {
        "id": "gYZHAm1jpgZE"
      },
      "source": [
        "import folium\n",
        "\n",
        "# plotando eventos no mapa\n",
        "m = folium.Map([45.5236, -122.6750], zoom_start=4)\n",
        "\n",
        "tipo_de_agrupamento = 'clusters'\n",
        "\n",
        "cluster = 3\n",
        "lats = eventos['loc_latitude'].loc[eventos[tipo_de_agrupamento] == cluster].tolist()\n",
        "lngs = eventos['loc_longitude'].loc[eventos[tipo_de_agrupamento] == cluster].tolist()\n",
        "\n",
        "for i in range(int(len(lats)*0.75)):\n",
        "  lat = lats[i]\n",
        "  lng = lngs[i]\n",
        "  folium.Marker([lat, lng], icon=folium.Icon(icon='circle', color='purple')).add_to(m)\n",
        "\n",
        "cluster = 4\n",
        "lats = eventos['loc_latitude'].loc[eventos[tipo_de_agrupamento] == cluster].tolist()\n",
        "lngs = eventos['loc_longitude'].loc[eventos[tipo_de_agrupamento] == cluster].tolist()\n",
        "\n",
        "for i in range(int(len(lats)*0.75)):\n",
        "  lat = lats[i]\n",
        "  lng = lngs[i]\n",
        "  folium.Marker([lat, lng], icon=folium.Icon(icon='circle', color='blue')).add_to(m)\n",
        "\n",
        "cluster = 34\n",
        "lats = eventos['loc_latitude'].loc[eventos[tipo_de_agrupamento] == cluster].tolist()\n",
        "lngs = eventos['loc_longitude'].loc[eventos[tipo_de_agrupamento] == cluster].tolist()\n",
        "\n",
        "for i in range(int(len(lats)*0.75)):\n",
        "  lat = lats[i]\n",
        "  lng = lngs[i]\n",
        "  folium.Marker([lat, lng], icon=folium.Icon(icon='circle', color='green')).add_to(m)\n",
        "\n",
        "cluster = 42\n",
        "lats = eventos['loc_latitude'].loc[eventos[tipo_de_agrupamento] == cluster].tolist()\n",
        "lngs = eventos['loc_longitude'].loc[eventos[tipo_de_agrupamento] == cluster].tolist()\n",
        "\n",
        "for i in range(int(len(lats)*0.6)):\n",
        "  lat = lats[i]\n",
        "  lng = lngs[i]\n",
        "  folium.Marker([lat, lng], icon=folium.Icon(icon='circle', color='orange')).add_to(m)\n",
        "\n",
        "m"
      ],
      "execution_count": null,
      "outputs": []
    },
    {
      "cell_type": "code",
      "metadata": {
        "id": "nxGgKHIiwZJv"
      },
      "source": [
        "import folium\n",
        "from folium.plugins import HeatMap\n",
        "\n",
        "cluster = 42\n",
        "lats = eventos['loc_latitude'].loc[eventos['clusters'] == cluster].tolist()\n",
        "lngs = eventos['loc_longitude'].loc[eventos['clusters'] == cluster].tolist()\n",
        "\n",
        "m = folium.Map([40.0995, -99.1351], zoom_start=4)\n",
        "data_heatmap = []\n",
        "\n",
        "for i in range(len(lats)):\n",
        "  lat = lats[i]\n",
        "  lng = lngs[i]\n",
        "  data_heatmap.append([lat,lng,1])\n",
        "\n",
        "HeatMap(data_heatmap).add_to(m)\n",
        "m"
      ],
      "execution_count": null,
      "outputs": []
    },
    {
      "cell_type": "code",
      "metadata": {
        "id": "1E-3YZOJt8Cn"
      },
      "source": [
        "lats = eventos['loc_latitude'].loc[eventos['clusters'] == 13].tolist()\n",
        "longs = eventos['loc_longitude'].loc[eventos['clusters'] == 13].tolist()\n",
        "\n",
        "for i in range(len(lats)):\n",
        "  print(lats[i])\n",
        "  print(longs[i])"
      ],
      "execution_count": null,
      "outputs": []
    }
  ]
}